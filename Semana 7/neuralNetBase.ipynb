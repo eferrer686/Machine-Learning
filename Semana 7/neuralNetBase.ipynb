{
 "cells": [
  {
   "cell_type": "code",
   "execution_count": 1,
   "metadata": {},
   "outputs": [],
   "source": [
    "import tensorflow as tf\n",
    "\n",
    "from sklearn import datasets\n",
    "import matplotlib.pyplot as plt\n",
    "import numpy as np\n",
    "from sklearn.model_selection import train_test_split\n",
    "from sklearn.preprocessing import MinMaxScaler"
   ]
  },
  {
   "cell_type": "code",
   "execution_count": 2,
   "metadata": {},
   "outputs": [
    {
     "name": "stdout",
     "output_type": "stream",
     "text": [
      "[[5.1 3.5 1.4 0.2]\n",
      " [4.9 3.  1.4 0.2]\n",
      " [4.7 3.2 1.3 0.2]\n",
      " [4.6 3.1 1.5 0.2]\n",
      " [5.  3.6 1.4 0.2]]\n"
     ]
    }
   ],
   "source": [
    "iris = datasets.load_iris()\n",
    "print(iris.data[:5])"
   ]
  },
  {
   "cell_type": "code",
   "execution_count": 3,
   "metadata": {},
   "outputs": [],
   "source": [
    "# seed random\n",
    "seed = 42\n",
    "tf.set_random_seed(seed)\n",
    "np.random.seed(seed)"
   ]
  },
  {
   "cell_type": "markdown",
   "metadata": {},
   "source": [
    "# Laboratorio: 1. Agrega una capa oculta más y que sea:\n",
    "# [3, 6] *[ ?,? ] * [6, 4] * [4, 1]."
   ]
  },
  {
   "cell_type": "markdown",
   "metadata": {},
   "source": [
    "# Laboratorio: 2. Utiliza el set del titanic y utiliza tu red neuronal para resolverlo quien se salva y quien no."
   ]
  },
  {
   "cell_type": "markdown",
   "metadata": {},
   "source": [
    "## Para cargar un CSV: d1 = pd.read_csv(\"tuArchivo.csv\") "
   ]
  },
  {
   "cell_type": "code",
   "execution_count": 4,
   "metadata": {},
   "outputs": [],
   "source": [
    "iris = datasets.load_iris()\n",
    "x = np.array([x[0:3] for x in iris.data])\n",
    "y = np.array([x[3] for x in iris.data])"
   ]
  },
  {
   "cell_type": "code",
   "execution_count": 5,
   "metadata": {},
   "outputs": [],
   "source": [
    "x_train, x_test, y_train, y_test = train_test_split(x,y, test_size = 0.2)"
   ]
  },
  {
   "cell_type": "code",
   "execution_count": 6,
   "metadata": {},
   "outputs": [],
   "source": [
    "mms = MinMaxScaler()\n",
    "x_train = mms.fit_transform(x_train)\n",
    "x_test = mms.fit_transform(x_test)"
   ]
  },
  {
   "cell_type": "code",
   "execution_count": 9,
   "metadata": {},
   "outputs": [],
   "source": [
    "#placeholder\n",
    "x_data = tf.placeholder(shape=[None,3],dtype=tf.float32)\n",
    "y_data = tf.placeholder(shape=[None,1],dtype=tf.float32)"
   ]
  },
  {
   "cell_type": "code",
   "execution_count": 15,
   "metadata": {},
   "outputs": [],
   "source": [
    "W1 = tf.Variable(tf.random_normal(shape=[3,6]))\n",
    "b1 = tf.Variable(tf.random_normal(shape=[6]))\n",
    "hidden_1 = tf.nn.relu(tf.add(tf.matmul(x_data,W1),b1))\n",
    "\n",
    "W2 = tf.Variable(tf.random_normal(shape=[6,4]))\n",
    "b2 = tf.Variable(tf.random_normal(shape=[4]))\n",
    "hidden_2 = tf.nn.relu(tf.add(tf.matmul(hidden_1,W2),b2))\n",
    "\n",
    "W3 = tf.Variable(tf.random_normal(shape=[4,1]))\n",
    "b3 = tf.Variable(tf.random_normal(shape=[1]))\n",
    "output = tf.nn.relu(tf.add(tf.matmul(hidden_2,W3),b3))\n",
    "\n",
    "loss = tf.reduce_mean(tf.square(y_data - output))\n",
    "\n",
    "optimizer = tf.train.GradientDescentOptimizer(0.005)\n",
    "train_step = optimizer.minimize(loss)"
   ]
  },
  {
   "cell_type": "code",
   "execution_count": 41,
   "metadata": {},
   "outputs": [
    {
     "name": "stdout",
     "output_type": "stream",
     "text": [
      "0 [1.897, 2.2316666]\n",
      "1 [1.9815999, 2.2316666]\n",
      "2 [1.8674, 2.2316666]\n",
      "3 [1.8064, 2.2316666]\n",
      "4 [1.844, 2.2316666]\n",
      "5 [2.5482, 2.2316666]\n",
      "6 [1.9766, 2.2316666]\n",
      "7 [2.0171998, 2.2316666]\n",
      "8 [1.9377999, 2.2316666]\n",
      "9 [1.7921999, 2.2316666]\n",
      "10 [1.7865999, 2.2316666]\n",
      "11 [2.0231998, 2.2316666]\n",
      "12 [2.04, 2.2316666]\n",
      "13 [1.8901999, 2.2316666]\n",
      "14 [1.9327999, 2.2316666]\n",
      "15 [2.0029998, 2.2316666]\n",
      "16 [2.0351999, 2.2316666]\n",
      "17 [2.2785997, 2.2316666]\n",
      "18 [1.8302001, 2.2316666]\n",
      "19 [1.9858, 2.2316666]\n",
      "20 [2.1123998, 2.2316666]\n",
      "21 [1.8836, 2.2316666]\n",
      "22 [1.8412, 2.2316666]\n",
      "23 [1.7843999, 2.2316666]\n",
      "24 [1.8827999, 2.2316666]\n",
      "25 [1.8532001, 2.2316666]\n",
      "26 [2.0802, 2.2316666]\n",
      "27 [2.0434, 2.2316666]\n",
      "28 [1.8008, 2.2316666]\n",
      "29 [1.8006002, 2.2316666]\n"
     ]
    }
   ],
   "source": [
    "batchSize = 50\n",
    "with tf.Session() as sess:\n",
    "    #Initialize variables\n",
    "    init = tf.global_variables_initializer()\n",
    "    sess.run(init)\n",
    "    \n",
    "    train_loss =[]\n",
    "    test_loss = []\n",
    "    \n",
    "    for i in range(30):\n",
    "        random_index = np.random.choice(len(x_train), size = batchSize)\n",
    "        random_x = x_train[random_index]\n",
    "        random_y = np.transpose([y_train[random_index]])\n",
    "        sess.run(train_step,feed_dict={x_data: random_x,\n",
    "                                       y_data: random_y})\n",
    "        \n",
    "        tempTrainLoss = sess.run(loss,feed_dict={x_data: random_x,\n",
    "                                                 y_data: random_y})\n",
    "        \n",
    "        tempTestLoss = sess.run(loss,feed_dict={x_data: x_test,\n",
    "                                                 y_data: np.transpose([y_test])})\n",
    "        \n",
    "        train_loss.append(sess.run(tf.sqrt(tempTrainLoss)))\n",
    "        test_loss.append(sess.run(tf.sqrt(tempTestLoss)))\n",
    "        \n",
    "        print(i , str([tempTrainLoss,tempTestLoss]))\n",
    "        "
   ]
  },
  {
   "cell_type": "code",
   "execution_count": 39,
   "metadata": {},
   "outputs": [
    {
     "data": {
      "image/png": "[encoded data removed]",
      "text/plain": [
       "<Figure size 432x288 with 1 Axes>"
      ]
     },
     "metadata": {},
     "output_type": "display_data"
    }
   ],
   "source": [
    "plt.plot(train_loss, 'k-', label='train loss')\n",
    "plt.plot(test_loss, 'r--', label='test loss')\n",
    "plt.legend(loc='upper right')\n",
    "plt.show()"
   ]
  },
  {
   "cell_type": "code",
   "execution_count": null,
   "metadata": {},
   "outputs": [],
   "source": []
  }
 ],
 "metadata": {
  "kernelspec": {
   "display_name": "Python 3",
   "language": "python",
   "name": "python3"
  },
  "language_info": {
   "codemirror_mode": {
    "name": "ipython",
    "version": 3
   },
   "file_extension": ".py",
   "mimetype": "text/x-python",
   "name": "python",
   "nbconvert_exporter": "python",
   "pygments_lexer": "ipython3",
   "version": "3.5.1"
  }
 },
 "nbformat": 4,
 "nbformat_minor": 2
}
