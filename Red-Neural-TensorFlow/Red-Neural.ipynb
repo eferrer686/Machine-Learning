{
 "cells": [
  {
   "cell_type": "code",
   "execution_count": 8,
   "metadata": {},
   "outputs": [],
   "source": [
    "import tensorflow as tf"
   ]
  },
  {
   "cell_type": "code",
   "execution_count": 9,
   "metadata": {},
   "outputs": [],
   "source": [
    "#placeholder\n",
    "x_data = tf.placeholder(shape=[None,2],dtype=tf.float32)\n",
    "y_data = tf.placeholder(shape=[None,1],dtype=tf.float32)"
   ]
  },
  {
   "cell_type": "code",
   "execution_count": 10,
   "metadata": {},
   "outputs": [],
   "source": [
    "W1 = tf.Variable(tf.random_normal(shape=[2,3]))\n",
    "b1 = tf.Variable(tf.random_normal(shape=[3]))\n",
    "a1 = tf.nn.relu(tf.add(tf.matmul(x_data,W1),b1))\n",
    "hidden_1 = tf.sigmoid(a1)\n",
    "\n",
    "W2 = tf.Variable(tf.random_normal(shape=[3,1]))\n",
    "b2 = tf.Variable(tf.random_normal(shape=[1]))\n",
    "a2 = tf.nn.relu(tf.add(tf.matmul(hidden_1,W2),b2))\n",
    "output = tf.sigmoid(a2)\n",
    "\n",
    "loss = tf.reduce_mean(tf.square(y_data - output))\n",
    "\n",
    "optimizer = tf.train.GradientDescentOptimizer(0.005)\n",
    "train_step = optimizer.minimize(loss)\n"
   ]
  },
  {
   "cell_type": "code",
   "execution_count": 11,
   "metadata": {},
   "outputs": [],
   "source": [
    "batchSize = 50\n",
    "with tf.Session() as sess:\n",
    "    #Initialize variables\n",
    "    init = tf.global_variables_initializer()\n",
    "    sess.run(init)\n",
    "    \n",
    "    train_loss =[]\n",
    "    test_loss = []"
   ]
  }
 ],
 "metadata": {
  "kernelspec": {
   "display_name": "Python 3",
   "language": "python",
   "name": "python3"
  },
  "language_info": {
   "codemirror_mode": {
    "name": "ipython",
    "version": 3
   },
   "file_extension": ".py",
   "mimetype": "text/x-python",
   "name": "python",
   "nbconvert_exporter": "python",
   "pygments_lexer": "ipython3",
   "version": "3.5.1"
  }
 },
 "nbformat": 4,
 "nbformat_minor": 2
}
