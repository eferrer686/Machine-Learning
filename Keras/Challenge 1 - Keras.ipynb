{
 "cells": [
  {
   "cell_type": "code",
   "execution_count": 1,
   "metadata": {},
   "outputs": [
    {
     "name": "stderr",
     "output_type": "stream",
     "text": [
      "Using TensorFlow backend.\n"
     ]
    }
   ],
   "source": [
    "import keras\n",
    "from keras.models import Sequential\n",
    "from keras.layers import Dense\n",
    "from keras.initializers import RandomNormal\n",
    "import numpy\n",
    "# fix random seed for reproducibility\n",
    "numpy.random.seed(7)"
   ]
  },
  {
   "cell_type": "code",
   "execution_count": 2,
   "metadata": {},
   "outputs": [],
   "source": [
    "bikes = numpy.loadtxt(\"hour.csv\", delimiter=\",\")\n",
    "# split into input (X) and output (Y) variables\n",
    "\n",
    "bikesTrain = bikes[:,:]\n",
    "\n",
    "bikesTest = bikes[10000:,:]\n",
    "\n",
    "X = bikesTrain[0:,:6]\n",
    "Y = bikesTrain[0:,6]\n",
    "\n",
    "XTest = bikesTest[0:,0:5]\n",
    "YTest = bikesTest[0:,6]"
   ]
  },
  {
   "cell_type": "code",
   "execution_count": 3,
   "metadata": {},
   "outputs": [],
   "source": [
    "for cont in range(5):\n",
    "    X[:,cont] = (X[:,cont]/(X[:,cont].max()))\n",
    "    \n",
    "    \n",
    "Y = Y/Y.max()"
   ]
  },
  {
   "cell_type": "code",
   "execution_count": 16,
   "metadata": {},
   "outputs": [],
   "source": [
    "# create model\n",
    "\n",
    "model = Sequential()\n",
    "model.add(Dense(6, input_dim=6, activation='relu'))\n",
    "model.add(Dense(8, activation='relu'))\n",
    "model.add(Dense(1, activation='sigmoid'))\n",
    "\n"
   ]
  },
  {
   "cell_type": "code",
   "execution_count": 17,
   "metadata": {},
   "outputs": [],
   "source": [
    "# Compile model\n",
    "model.compile(loss='binary_crossentropy', optimizer='ADAM', metrics=['accuracy'])"
   ]
  },
  {
   "cell_type": "code",
   "execution_count": 18,
   "metadata": {
    "scrolled": true
   },
   "outputs": [
    {
     "name": "stdout",
     "output_type": "stream",
     "text": [
      "Epoch 1/10\n",
      "17379/17379 [==============================] - 1s 61us/step - loss: 3.1002 - acc: 5.7541e-05\n",
      "Epoch 2/10\n",
      "17379/17379 [==============================] - 1s 36us/step - loss: 0.4657 - acc: 5.7541e-05\n",
      "Epoch 3/10\n",
      "17379/17379 [==============================] - 1s 36us/step - loss: 0.4270 - acc: 5.7541e-05\n",
      "Epoch 4/10\n",
      "17379/17379 [==============================] - 1s 35us/step - loss: 0.4130 - acc: 5.7541e-05\n",
      "Epoch 5/10\n",
      "17379/17379 [==============================] - 1s 35us/step - loss: 0.4057 - acc: 5.7541e-05\n",
      "Epoch 6/10\n",
      "17379/17379 [==============================] - 1s 36us/step - loss: 0.4004 - acc: 5.7541e-05\n",
      "Epoch 7/10\n",
      "17379/17379 [==============================] - 1s 36us/step - loss: 0.3945 - acc: 5.7541e-05\n",
      "Epoch 8/10\n",
      "17379/17379 [==============================] - 1s 35us/step - loss: 0.3851 - acc: 5.7541e-05\n",
      "Epoch 9/10\n",
      "17379/17379 [==============================] - 1s 36us/step - loss: 0.3840 - acc: 5.7541e-05\n",
      "Epoch 10/10\n",
      "17379/17379 [==============================] - 1s 36us/step - loss: 0.3840 - acc: 5.7541e-05\n"
     ]
    },
    {
     "data": {
      "text/plain": [
       "<keras.callbacks.History at 0x26f2879e7f0>"
      ]
     },
     "execution_count": 18,
     "metadata": {},
     "output_type": "execute_result"
    }
   ],
   "source": [
    "# Fit the model\n",
    "model.fit(X,\n",
    "          Y,\n",
    "          epochs=10,\n",
    "         \n",
    "         shuffle=True)"
   ]
  },
  {
   "cell_type": "code",
   "execution_count": 7,
   "metadata": {},
   "outputs": [
    {
     "data": {
      "text/plain": [
       "array([[0.02884732],\n",
       "       [0.04560821],\n",
       "       [0.04049164],\n",
       "       ...,\n",
       "       [0.10675851],\n",
       "       [0.05999643],\n",
       "       [0.0476555 ]], dtype=float32)"
      ]
     },
     "execution_count": 7,
     "metadata": {},
     "output_type": "execute_result"
    }
   ],
   "source": [
    "model.predict(X)"
   ]
  },
  {
   "cell_type": "code",
   "execution_count": 8,
   "metadata": {},
   "outputs": [
    {
     "name": "stdout",
     "output_type": "stream",
     "text": [
      "[0.01637666 0.04094166 0.03275333 ... 0.09211873 0.06243603 0.05015353]\n"
     ]
    }
   ],
   "source": [
    "print(Y)"
   ]
  }
 ],
 "metadata": {
  "kernelspec": {
   "display_name": "Python 3",
   "language": "python",
   "name": "python3"
  },
  "language_info": {
   "codemirror_mode": {
    "name": "ipython",
    "version": 3
   },
   "file_extension": ".py",
   "mimetype": "text/x-python",
   "name": "python",
   "nbconvert_exporter": "python",
   "pygments_lexer": "ipython3",
   "version": "3.5.1"
  }
 },
 "nbformat": 4,
 "nbformat_minor": 2
}
