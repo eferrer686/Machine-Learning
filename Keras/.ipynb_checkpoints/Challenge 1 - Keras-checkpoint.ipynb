{
 "cells": [
  {
   "cell_type": "code",
   "execution_count": 1,
   "metadata": {},
   "outputs": [
    {
     "name": "stderr",
     "output_type": "stream",
     "text": [
      "Using TensorFlow backend.\n"
     ]
    }
   ],
   "source": [
    "import keras\n",
    "from keras.models import Sequential\n",
    "from keras.layers import Dense\n",
    "import numpy\n",
    "# fix random seed for reproducibility\n",
    "numpy.random.seed(7)"
   ]
  },
  {
   "cell_type": "code",
   "execution_count": 5,
   "metadata": {},
   "outputs": [],
   "source": [
    "# load pima indians dataset\n",
    "bikes = numpy.loadtxt(\"hour.csv\", delimiter=\",\")\n",
    "# split into input (X) and output (Y) variables\n",
    "\n",
    "bikesTrain = bikes[0:10000,:]\n",
    "\n",
    "bikesTest = bikes[10000:,:]\n",
    "\n",
    "X = bikesTrain[0:,0:5]\n",
    "Y = bikesTrain[0:,6]\n",
    "\n",
    "XTest = bikesTest[0:,0:5]\n",
    "YTest = bikesTest[0:,6]\n"
   ]
  },
  {
   "cell_type": "code",
   "execution_count": null,
   "metadata": {},
   "outputs": [],
   "source": []
  }
 ],
 "metadata": {
  "kernelspec": {
   "display_name": "Python 3",
   "language": "python",
   "name": "python3"
  },
  "language_info": {
   "codemirror_mode": {
    "name": "ipython",
    "version": 3
   },
   "file_extension": ".py",
   "mimetype": "text/x-python",
   "name": "python",
   "nbconvert_exporter": "python",
   "pygments_lexer": "ipython3",
   "version": "3.5.0"
  }
 },
 "nbformat": 4,
 "nbformat_minor": 2
}
