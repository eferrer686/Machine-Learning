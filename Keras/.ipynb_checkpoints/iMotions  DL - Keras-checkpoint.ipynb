{
 "cells": [
  {
   "cell_type": "code",
   "execution_count": 28,
   "metadata": {},
   "outputs": [],
   "source": [
    "import keras\n",
    "from keras.models import Sequential\n",
    "from keras.layers import Dense\n",
    "from keras.layers import Conv1D\n",
    "\n",
    "from keras.initializers import RandomNormal\n",
    "import numpy\n",
    "# fix random seed for reproducibility\n",
    "numpy.random.seed(7)"
   ]
  },
  {
   "cell_type": "code",
   "execution_count": 7,
   "metadata": {
    "scrolled": true
   },
   "outputs": [],
   "source": [
    "X = numpy.loadtxt(\"X.csv\", delimiter=\",\")\n",
    "Y = numpy.loadtxt(\"Y.csv\", delimiter=\",\")\n"
   ]
  },
  {
   "cell_type": "code",
   "execution_count": 11,
   "metadata": {},
   "outputs": [
    {
     "name": "stderr",
     "output_type": "stream",
     "text": [
      "c:\\users\\edfmg\\appdata\\local\\programs\\python\\python35\\lib\\site-packages\\numpy\\core\\_methods.py:26: RuntimeWarning: invalid value encountered in reduce\n",
      "  return umr_maximum(a, axis, None, out, keepdims)\n"
     ]
    }
   ],
   "source": [
    "for cont in range(49):\n",
    "    X[:,cont] = (X[:,cont]/(X[:,cont].max()))\n",
    "    \n",
    "for cont in range(12):\n",
    "    Y[:,cont] = (Y[:,cont]/(Y[:,cont].max()))\n"
   ]
  },
  {
   "cell_type": "code",
   "execution_count": 40,
   "metadata": {},
   "outputs": [],
   "source": [
    "# create model\n",
    "\n",
    "model = Sequential()\n",
    "model.add(Dense(49, input_dim=49, activation='relu'))\n",
    "model.add(Dense(30, activation='relu'))\n",
    "model.add(Dense(1, activation='sigmoid'))\n",
    "\n",
    "\n",
    "\n",
    "# model.compile(loss=keras.losses.categorical_crossentropy,\n",
    "#               optimizer=keras.optimizers.Adadelta(),\n",
    "# metrics=['accuracy'])\n",
    "\n"
   ]
  },
  {
   "cell_type": "code",
   "execution_count": 43,
   "metadata": {},
   "outputs": [],
   "source": [
    "# Compile model\n",
    "model.compile(loss='binary_crossentropy', optimizer='ADAM', metrics=['accuracy'])\n",
    "\n",
    "# model.compile(loss=keras.losses.categorical_crossentropy,\n",
    "#               optimizer=keras.optimizers.SGD(lr=0.01, momentum=0.9, nesterov=True))"
   ]
  },
  {
   "cell_type": "code",
   "execution_count": 44,
   "metadata": {
    "scrolled": true
   },
   "outputs": [
    {
     "name": "stdout",
     "output_type": "stream",
     "text": [
      "Epoch 1/10\n",
      "39455/39455 [==============================] - 2s 59us/step - loss: nan - acc: 0.0000e+00\n",
      "Epoch 2/10\n",
      "39455/39455 [==============================] - 2s 43us/step - loss: nan - acc: 0.0000e+00\n",
      "Epoch 3/10\n",
      "39455/39455 [==============================] - 2s 43us/step - loss: nan - acc: 0.0000e+00\n",
      "Epoch 4/10\n",
      "39455/39455 [==============================] - 2s 42us/step - loss: nan - acc: 0.0000e+00\n",
      "Epoch 5/10\n",
      "39455/39455 [==============================] - 2s 42us/step - loss: nan - acc: 0.0000e+00\n",
      "Epoch 6/10\n",
      "39455/39455 [==============================] - 2s 42us/step - loss: nan - acc: 0.0000e+00\n",
      "Epoch 7/10\n",
      "39455/39455 [==============================] - 2s 42us/step - loss: nan - acc: 0.0000e+00\n",
      "Epoch 8/10\n",
      "39455/39455 [==============================] - 2s 43us/step - loss: nan - acc: 0.0000e+00\n",
      "Epoch 9/10\n",
      "39455/39455 [==============================] - 2s 42us/step - loss: nan - acc: 0.0000e+00\n",
      "Epoch 10/10\n",
      "39455/39455 [==============================] - 2s 42us/step - loss: nan - acc: 0.0000e+00\n"
     ]
    },
    {
     "data": {
      "text/plain": [
       "<keras.callbacks.History at 0x17505cb7fd0>"
      ]
     },
     "execution_count": 44,
     "metadata": {},
     "output_type": "execute_result"
    }
   ],
   "source": [
    "# Fit the model\n",
    "model.fit(X,\n",
    "          Y[:,1],\n",
    "          epochs=10,\n",
    "         shuffle=True)"
   ]
  },
  {
   "cell_type": "code",
   "execution_count": 60,
   "metadata": {},
   "outputs": [
    {
     "data": {
      "text/plain": [
       "array([[0.01456499],\n",
       "       [0.03827602],\n",
       "       [0.02998185],\n",
       "       ...,\n",
       "       [0.08748421],\n",
       "       [0.06069864],\n",
       "       [0.05392118]], dtype=float32)"
      ]
     },
     "execution_count": 60,
     "metadata": {},
     "output_type": "execute_result"
    }
   ],
   "source": [
    "model.predict(X)"
   ]
  },
  {
   "cell_type": "code",
   "execution_count": 62,
   "metadata": {},
   "outputs": [
    {
     "name": "stdout",
     "output_type": "stream",
     "text": [
      "[0.01637666 0.04094166 0.03275333 ... 0.09211873 0.06243603 0.05015353]\n"
     ]
    }
   ],
   "source": [
    "print(Y)"
   ]
  }
 ],
 "metadata": {
  "kernelspec": {
   "display_name": "Python 3",
   "language": "python",
   "name": "python3"
  },
  "language_info": {
   "codemirror_mode": {
    "name": "ipython",
    "version": 3
   },
   "file_extension": ".py",
   "mimetype": "text/x-python",
   "name": "python",
   "nbconvert_exporter": "python",
   "pygments_lexer": "ipython3",
   "version": "3.5.1"
  }
 },
 "nbformat": 4,
 "nbformat_minor": 2
}
