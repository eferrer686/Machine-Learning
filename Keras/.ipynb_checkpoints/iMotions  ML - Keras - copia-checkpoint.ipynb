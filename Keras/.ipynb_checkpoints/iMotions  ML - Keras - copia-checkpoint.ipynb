{
 "cells": [
  {
   "cell_type": "code",
   "execution_count": 5,
   "metadata": {},
   "outputs": [],
   "source": [
    "import keras\n",
    "from keras.models import Sequential\n",
    "from keras.layers import Dense\n",
    "from keras.initializers import RandomNormal\n",
    "import numpy\n",
    "# fix random seed for reproducibility\n",
    "numpy.random.seed(7)"
   ]
  },
  {
   "cell_type": "code",
   "execution_count": 38,
   "metadata": {},
   "outputs": [],
   "source": [
    "X = numpy.loadtxt(\"X.csv\", delimiter=\",\")\n",
    "# split into input (X) and output (Y) variables\n",
    "\n",
    "\n",
    "X = bikesTrain\n",
    "Y = bikesTrain\n",
    "\n",
    "XTest = bikesTest[0:,0:5]\n",
    "YTest = bikesTest[0:,6]"
   ]
  },
  {
   "cell_type": "code",
   "execution_count": 39,
   "metadata": {},
   "outputs": [],
   "source": [
    "for cont in range(5):\n",
    "    X[:,cont] = (X[:,cont]/(X[:,cont].max()))\n",
    "    \n",
    "    \n",
    "Y = Y/Y.max()"
   ]
  },
  {
   "cell_type": "code",
   "execution_count": 56,
   "metadata": {},
   "outputs": [],
   "source": [
    "# create model\n",
    "\n",
    "model = Sequential()\n",
    "model.add(Dense(12, input_dim=6, activation='relu'))\n",
    "model.add(Dense(12, activation='relu'))\n",
    "model.add(Dense(1, activation='sigmoid'))\n",
    "\n"
   ]
  },
  {
   "cell_type": "code",
   "execution_count": 57,
   "metadata": {},
   "outputs": [],
   "source": [
    "# Compile model\n",
    "model.compile(loss='binary_crossentropy', optimizer='ADAM', metrics=['accuracy'])"
   ]
  },
  {
   "cell_type": "code",
   "execution_count": 59,
   "metadata": {
    "scrolled": true
   },
   "outputs": [
    {
     "name": "stdout",
     "output_type": "stream",
     "text": [
      "Epoch 1/10\n",
      "100/100 [==============================] - 1s 8ms/step - loss: 0.3822 - acc: 5.7541e-05\n",
      "Epoch 2/10\n",
      "100/100 [==============================] - 1s 8ms/step - loss: 0.3824 - acc: 5.7541e-05\n",
      "Epoch 3/10\n",
      "100/100 [==============================] - 1s 8ms/step - loss: 0.3822 - acc: 5.7541e-05\n",
      "Epoch 4/10\n",
      "100/100 [==============================] - 1s 8ms/step - loss: 0.3824 - acc: 5.7541e-05\n",
      "Epoch 5/10\n",
      "100/100 [==============================] - 1s 8ms/step - loss: 0.3824 - acc: 5.7541e-05\n",
      "Epoch 6/10\n",
      "100/100 [==============================] - 1s 8ms/step - loss: 0.3821 - acc: 5.7541e-05\n",
      "Epoch 7/10\n",
      "100/100 [==============================] - 1s 8ms/step - loss: 0.3824 - acc: 5.7541e-05\n",
      "Epoch 8/10\n",
      "100/100 [==============================] - 1s 8ms/step - loss: 0.3821 - acc: 5.7541e-05\n",
      "Epoch 9/10\n",
      "100/100 [==============================] - 1s 8ms/step - loss: 0.3824 - acc: 5.7541e-05\n",
      "Epoch 10/10\n",
      "100/100 [==============================] - 1s 8ms/step - loss: 0.3823 - acc: 5.7541e-05\n"
     ]
    },
    {
     "data": {
      "text/plain": [
       "<keras.callbacks.History at 0x27b0f2cbcc0>"
      ]
     },
     "execution_count": 59,
     "metadata": {},
     "output_type": "execute_result"
    }
   ],
   "source": [
    "# Fit the model\n",
    "model.fit(X,\n",
    "          Y,\n",
    "          epochs=10,\n",
    "         steps_per_epoch=100,\n",
    "         shuffle=True)"
   ]
  },
  {
   "cell_type": "code",
   "execution_count": 60,
   "metadata": {},
   "outputs": [
    {
     "data": {
      "text/plain": [
       "array([[0.01456499],\n",
       "       [0.03827602],\n",
       "       [0.02998185],\n",
       "       ...,\n",
       "       [0.08748421],\n",
       "       [0.06069864],\n",
       "       [0.05392118]], dtype=float32)"
      ]
     },
     "execution_count": 60,
     "metadata": {},
     "output_type": "execute_result"
    }
   ],
   "source": [
    "model.predict(X)"
   ]
  },
  {
   "cell_type": "code",
   "execution_count": 62,
   "metadata": {},
   "outputs": [
    {
     "name": "stdout",
     "output_type": "stream",
     "text": [
      "[0.01637666 0.04094166 0.03275333 ... 0.09211873 0.06243603 0.05015353]\n"
     ]
    }
   ],
   "source": [
    "print(Y)"
   ]
  }
 ],
 "metadata": {
  "kernelspec": {
   "display_name": "Python 3",
   "language": "python",
   "name": "python3"
  },
  "language_info": {
   "codemirror_mode": {
    "name": "ipython",
    "version": 3
   },
   "file_extension": ".py",
   "mimetype": "text/x-python",
   "name": "python",
   "nbconvert_exporter": "python",
   "pygments_lexer": "ipython3",
   "version": "3.5.0"
  }
 },
 "nbformat": 4,
 "nbformat_minor": 2
}
