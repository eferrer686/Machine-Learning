{
 "cells": [
  {
   "cell_type": "code",
   "execution_count": 26,
   "metadata": {},
   "outputs": [],
   "source": [
    "import keras\n",
    "from keras.models import Sequential\n",
    "from keras.layers import Dense\n",
    "from keras.layers import Conv1D,Flatten\n",
    "\n",
    "from keras.initializers import RandomNormal\n",
    "import numpy\n"
   ]
  },
  {
   "cell_type": "code",
   "execution_count": 31,
   "metadata": {
    "scrolled": true
   },
   "outputs": [
    {
     "name": "stdout",
     "output_type": "stream",
     "text": [
      "[[-9.40000e-01 -1.03000e+00 -1.14000e+00 ...  1.06103e+03  6.60000e+01\n",
      "   9.40000e-01]\n",
      " [-9.40000e-01 -1.03000e+00 -1.14000e+00 ...  1.06103e+03  6.60000e+01\n",
      "   9.40000e-01]\n",
      " [-9.40000e-01 -1.03000e+00 -1.14000e+00 ...  1.06257e+03  6.60000e+01\n",
      "   9.40000e-01]\n",
      " ...\n",
      " [-6.70000e-01 -8.60000e-01 -7.00000e-01 ...  1.76967e+03  6.40000e+01\n",
      "   5.70000e-01]\n",
      " [-6.70000e-01 -8.60000e-01 -7.00000e-01 ...  1.76825e+03  6.40000e+01\n",
      "   5.70000e-01]\n",
      " [-6.70000e-01 -8.60000e-01 -7.00000e-01 ...  1.76967e+03  6.40000e+01\n",
      "   5.70000e-01]]\n"
     ]
    }
   ],
   "source": [
    "X = numpy.loadtxt(\"X.csv\", delimiter=\",\")\n",
    "Y = numpy.loadtxt(\"Y.csv\", delimiter=\",\")\n",
    "print(X)"
   ]
  },
  {
   "cell_type": "code",
   "execution_count": 32,
   "metadata": {},
   "outputs": [
    {
     "name": "stdout",
     "output_type": "stream",
     "text": [
      "[[0.248      0.28965517 0.2027972  ... 0.07684807 0.35714286 0.86363636]\n",
      " [0.248      0.28965517 0.2027972  ... 0.07684807 0.35714286 0.86363636]\n",
      " [0.248      0.28965517 0.2027972  ... 0.0788502  0.35714286 0.86363636]\n",
      " ...\n",
      " [0.464      0.40689655 0.51048951 ... 0.99814088 0.30952381 0.02272727]\n",
      " [0.464      0.40689655 0.51048951 ... 0.99629476 0.30952381 0.02272727]\n",
      " [0.464      0.40689655 0.51048951 ... 0.99814088 0.30952381 0.02272727]]\n"
     ]
    }
   ],
   "source": [
    "for cont in range(49):\n",
    "    X[:,cont] = ((X[:,cont]-X[:,cont].min())/(X[:,cont].max()-X[:,cont].min()))\n",
    "#               (x         -min(x))        /(max(x)         -min(x))\n",
    "    \n",
    "for cont in range(12):\n",
    "    Y[:,cont] = (Y[:,cont]/(Y[:,cont].max()))\n",
    "    \n",
    "    \n",
    "print(X)\n"
   ]
  },
  {
   "cell_type": "code",
   "execution_count": 48,
   "metadata": {},
   "outputs": [],
   "source": [
    "# create model\n",
    "\n",
    "model = Sequential()\n",
    "model.add(Dense(49, input_dim=49, activation='relu'))\n",
    "model.add(Dense(100, activation='relu'))\n",
    "\n",
    "model.add(Dense(1, activation='sigmoid'))"
   ]
  },
  {
   "cell_type": "code",
   "execution_count": 61,
   "metadata": {},
   "outputs": [],
   "source": [
    "# Compile model\n",
    "model.compile(loss='binary_crossentropy', optimizer='ADAM')"
   ]
  },
  {
   "cell_type": "code",
   "execution_count": 60,
   "metadata": {
    "scrolled": false
   },
   "outputs": [
    {
     "name": "stdout",
     "output_type": "stream",
     "text": [
      "Epoch 1/1\n",
      "39455/39455 [==============================] - 2s 47us/step - loss: 0.3802\n"
     ]
    },
    {
     "data": {
      "text/plain": [
       "<keras.callbacks.History at 0x1999b060ba8>"
      ]
     },
     "execution_count": 60,
     "metadata": {},
     "output_type": "execute_result"
    }
   ],
   "source": [
    "# Fit the model\n",
    "model.fit(X,\n",
    "          Y[:,1],\n",
    "          epochs=10,\n",
    "         shuffle=True)"
   ]
  },
  {
   "cell_type": "code",
   "execution_count": 59,
   "metadata": {},
   "outputs": [
    {
     "data": {
      "text/plain": [
       "array([[0.09222101],\n",
       "       [0.09028205],\n",
       "       [0.08885828],\n",
       "       ...,\n",
       "       [0.48770902],\n",
       "       [0.48817626],\n",
       "       [0.4882905 ]], dtype=float32)"
      ]
     },
     "execution_count": 59,
     "metadata": {},
     "output_type": "execute_result"
    }
   ],
   "source": [
    "model.predict(X)"
   ]
  },
  {
   "cell_type": "code",
   "execution_count": 38,
   "metadata": {},
   "outputs": [
    {
     "name": "stdout",
     "output_type": "stream",
     "text": [
      "[0.08084279 0.08084279 0.08084279 ... 0.49043394 0.49043394 0.49043394]\n"
     ]
    }
   ],
   "source": [
    "print(Y[:,1])"
   ]
  }
 ],
 "metadata": {
  "kernelspec": {
   "display_name": "Python 3",
   "language": "python",
   "name": "python3"
  },
  "language_info": {
   "codemirror_mode": {
    "name": "ipython",
    "version": 3
   },
   "file_extension": ".py",
   "mimetype": "text/x-python",
   "name": "python",
   "nbconvert_exporter": "python",
   "pygments_lexer": "ipython3",
   "version": "3.5.1"
  }
 },
 "nbformat": 4,
 "nbformat_minor": 2
}
