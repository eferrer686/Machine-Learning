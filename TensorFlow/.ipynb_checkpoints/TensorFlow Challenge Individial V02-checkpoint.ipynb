{
 "cells": [
  {
   "cell_type": "code",
   "execution_count": 6,
   "metadata": {},
   "outputs": [],
   "source": [
    "import tensorflow as tf\n",
    "import random"
   ]
  },
  {
   "cell_type": "code",
   "execution_count": 101,
   "metadata": {},
   "outputs": [
    {
     "name": "stdout",
     "output_type": "stream",
     "text": [
      "6\n",
      "36\n"
     ]
    }
   ],
   "source": [
    "# Ejercicio 1\n",
    "graph = tf.Graph()\n",
    "\n",
    "with graph.as_default():\n",
    "    x = tf.Variable(random.randint(0,10))\n",
    "    square = tf.assign(x,x*x)\n",
    "    init = tf.global_variables_initializer()\n",
    "\n",
    "with tf.Session(graph=graph):\n",
    "    init.run()\n",
    "    print(x.eval())\n",
    "    x.eval()\n",
    "    square.eval()\n",
    "    print(x.eval())"
   ]
  },
  {
   "cell_type": "code",
   "execution_count": 104,
   "metadata": {},
   "outputs": [
    {
     "name": "stdout",
     "output_type": "stream",
     "text": [
      "3.0\n",
      "0.33333334\n"
     ]
    }
   ],
   "source": [
    "# Ejercicio 2\n",
    "graph = tf.Graph()\n",
    "\n",
    "with graph.as_default():\n",
    "    x = tf.Variable(random.randint(0,10)+0.0)\n",
    "    div = tf.assign(x,1/x)\n",
    "    init = tf.global_variables_initializer()\n",
    "\n",
    "with tf.Session(graph=graph):\n",
    "    init.run()\n",
    "    print(x.eval())\n",
    "    div.eval()\n",
    "    print(x.eval())"
   ]
  },
  {
   "cell_type": "code",
   "execution_count": 106,
   "metadata": {},
   "outputs": [
    {
     "name": "stdout",
     "output_type": "stream",
     "text": [
      "7.0\n",
      "0.75390226\n"
     ]
    }
   ],
   "source": [
    "# Ejercicio 3\n",
    "graph = tf.Graph()\n",
    "\n",
    "with graph.as_default():\n",
    "    x = tf.Variable(random.randint(0,10)+0.0)\n",
    "    cosX = tf.assign(x,tf.cos(x))\n",
    "    init = tf.global_variables_initializer()\n",
    "\n",
    "with tf.Session(graph=graph):\n",
    "    init.run()\n",
    "    print(x.eval())\n",
    "    cosX.eval()\n",
    "    print(x.eval())"
   ]
  },
  {
   "cell_type": "code",
   "execution_count": 107,
   "metadata": {
    "scrolled": true
   },
   "outputs": [
    {
     "name": "stdout",
     "output_type": "stream",
     "text": [
      "10.0\n",
      "0.81428576\n"
     ]
    }
   ],
   "source": [
    "# Ejercicio 4\n",
    "graph = tf.Graph()\n",
    "\n",
    "with graph.as_default():\n",
    "    x = tf.Variable(random.randint(0,10)+0.0)\n",
    "    cons1 = tf.constant(1.0)\n",
    "    cons3 = tf.constant(3.0)\n",
    "    cons5 = tf.constant(5.0)\n",
    "    \n",
    "    temp = tf.Variable(0.0)\n",
    "    \n",
    "    div1 = tf.assign(temp,cons1/x)\n",
    "    div5 = tf.assign(x,temp + cons5/(x-cons3))\n",
    "    \n",
    "    init = tf.global_variables_initializer()\n",
    "\n",
    "with tf.Session(graph=graph):\n",
    "    init.run()\n",
    "    print(x.eval())\n",
    "    div1.eval()\n",
    "    div5.eval()\n",
    "    print(x.eval())"
   ]
  },
  {
   "cell_type": "code",
   "execution_count": 109,
   "metadata": {},
   "outputs": [
    {
     "name": "stdout",
     "output_type": "stream",
     "text": [
      "10.0\n",
      "25.624344\n"
     ]
    }
   ],
   "source": [
    "# Ejercicio 5\n",
    "graph = tf.Graph()\n",
    "\n",
    "with graph.as_default():\n",
    "    x = tf.Variable(random.randint(0,10)+0.0)\n",
    "    cons = tf.constant(2.0)\n",
    "    \n",
    "    sqrt = tf.assign(x,tf.sqrt(x))\n",
    "    powE = tf.assign(x,tf.exp(x))\n",
    "    sumX = tf.assign(x,x+cons)\n",
    "    \n",
    "    init = tf.global_variables_initializer()\n",
    "\n",
    "with tf.Session(graph=graph):\n",
    "    init.run()\n",
    "    print(x.eval())\n",
    "\n",
    "    sqrt.eval()\n",
    "    powE.eval()\n",
    "    sumX.eval()\n",
    "    \n",
    "    print(x.eval())"
   ]
  }
 ],
 "metadata": {
  "kernelspec": {
   "display_name": "Python 3",
   "language": "python",
   "name": "python3"
  },
  "language_info": {
   "codemirror_mode": {
    "name": "ipython",
    "version": 3
   },
   "file_extension": ".py",
   "mimetype": "text/x-python",
   "name": "python",
   "nbconvert_exporter": "python",
   "pygments_lexer": "ipython3",
   "version": "3.5.0"
  }
 },
 "nbformat": 4,
 "nbformat_minor": 2
}
