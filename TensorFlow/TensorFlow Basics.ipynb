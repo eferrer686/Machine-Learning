{
 "cells": [
  {
   "cell_type": "code",
   "execution_count": 2,
   "metadata": {},
   "outputs": [],
   "source": [
    "import tensorflow as tf"
   ]
  },
  {
   "cell_type": "code",
   "execution_count": 3,
   "metadata": {},
   "outputs": [],
   "source": [
    "a = tf.constant(3.0)\n",
    "b = tf.constant(2.0)"
   ]
  },
  {
   "cell_type": "code",
   "execution_count": 4,
   "metadata": {},
   "outputs": [],
   "source": [
    "c = a + b"
   ]
  },
  {
   "cell_type": "code",
   "execution_count": 24,
   "metadata": {},
   "outputs": [],
   "source": [
    "sess = tf.Session()"
   ]
  },
  {
   "cell_type": "code",
   "execution_count": 6,
   "metadata": {},
   "outputs": [
    {
     "name": "stdout",
     "output_type": "stream",
     "text": [
      "5.0\n"
     ]
    }
   ],
   "source": [
    "print(sess.run(c))"
   ]
  },
  {
   "cell_type": "code",
   "execution_count": 7,
   "metadata": {},
   "outputs": [
    {
     "name": "stdout",
     "output_type": "stream",
     "text": [
      "[[ 8. 12.]\n",
      " [10. 15.]]\n"
     ]
    }
   ],
   "source": [
    "a = tf.placeholder(tf.float32,shape=(2,1))\n",
    "b = tf.placeholder(tf.float32,shape=(1,2))\n",
    "c = tf.matmul(a,b)\n",
    "\n",
    "sess = tf.Session()\n",
    "print(sess.run(c,{a:[[4],[5]],b:[[2,3]]}))"
   ]
  },
  {
   "cell_type": "code",
   "execution_count": 15,
   "metadata": {},
   "outputs": [],
   "source": [
    "g = tf.Graph()"
   ]
  },
  {
   "cell_type": "code",
   "execution_count": 29,
   "metadata": {},
   "outputs": [],
   "source": [
    "with g.as_default():\n",
    "    f = tf.constant(8.3)\n",
    "    d = tf.constant(3.)\n",
    "    r = tf.exp(tf.sqrt(f)+d)"
   ]
  },
  {
   "cell_type": "code",
   "execution_count": 30,
   "metadata": {
    "scrolled": true
   },
   "outputs": [],
   "source": [
    "with tf.Session(graph=g):\n",
    "    evalR = r.eval()"
   ]
  },
  {
   "cell_type": "code",
   "execution_count": 31,
   "metadata": {},
   "outputs": [],
   "source": [
    "graph = tf.Graph()\n",
    "\n",
    "with graph.as_default():\n",
    "    x = tf.Variable(100)\n",
    "    c = tf.constant(5)\n",
    "    increment = tf.assign(x,x+c)\n",
    "    init = tf.global_variables_initializer()"
   ]
  },
  {
   "cell_type": "code",
   "execution_count": 33,
   "metadata": {
    "scrolled": false
   },
   "outputs": [
    {
     "name": "stdout",
     "output_type": "stream",
     "text": [
      "100\n",
      "105\n",
      "110\n",
      "115\n",
      "120\n",
      "125\n",
      "130\n",
      "135\n",
      "140\n",
      "145\n",
      "150\n"
     ]
    }
   ],
   "source": [
    "with tf.Session(graph=graph):\n",
    "    init.run()\n",
    "\n",
    "    print(x.eval())\n",
    "\n",
    "    for iteration in range(10):\n",
    "        increment.eval()\n",
    "        print(x.eval())"
   ]
  },
  {
   "cell_type": "code",
   "execution_count": 36,
   "metadata": {},
   "outputs": [
    {
     "name": "stdout",
     "output_type": "stream",
     "text": [
      "2\n",
      "4\n",
      "6\n",
      "8\n",
      "10\n",
      "12\n",
      "14\n",
      "16\n",
      "18\n",
      "20\n",
      "22\n"
     ]
    }
   ],
   "source": [
    "# Ejercicio a\n",
    "graph = tf.Graph()\n",
    "\n",
    "with graph.as_default():\n",
    "    x = tf.Variable(2)\n",
    "    increment = tf.assign(x,x+2)\n",
    "    init = tf.global_variables_initializer()\n",
    "\n",
    "with tf.Session(graph=graph):\n",
    "    init.run()\n",
    "\n",
    "    print(x.eval())\n",
    "\n",
    "    for iteration in range(10):\n",
    "        increment.eval()\n",
    "        print(x.eval())"
   ]
  },
  {
   "cell_type": "code",
   "execution_count": 37,
   "metadata": {},
   "outputs": [
    {
     "name": "stdout",
     "output_type": "stream",
     "text": [
      "1\n",
      "3\n",
      "5\n",
      "7\n",
      "9\n",
      "11\n",
      "13\n",
      "15\n",
      "17\n",
      "19\n",
      "21\n"
     ]
    }
   ],
   "source": [
    "# Ejercicio b\n",
    "graph = tf.Graph()\n",
    "\n",
    "with graph.as_default():\n",
    "    x = tf.Variable(1)\n",
    "    increment = tf.assign(x,x+2)\n",
    "    init = tf.global_variables_initializer()\n",
    "\n",
    "with tf.Session(graph=graph):\n",
    "    init.run()\n",
    "\n",
    "    print(x.eval())\n",
    "\n",
    "    for iteration in range(10):\n",
    "        increment.eval()\n",
    "        print(x.eval())"
   ]
  },
  {
   "cell_type": "code",
   "execution_count": 38,
   "metadata": {},
   "outputs": [
    {
     "name": "stdout",
     "output_type": "stream",
     "text": [
      "99\n",
      "199\n",
      "299\n",
      "399\n",
      "499\n",
      "599\n",
      "699\n",
      "799\n",
      "899\n",
      "999\n",
      "1099\n"
     ]
    }
   ],
   "source": [
    "# Ejercicio c\n",
    "graph = tf.Graph()\n",
    "\n",
    "with graph.as_default():\n",
    "    x = tf.Variable(99)\n",
    "    increment = tf.assign(x,x+100)\n",
    "    init = tf.global_variables_initializer()\n",
    "\n",
    "with tf.Session(graph=graph):\n",
    "    init.run()\n",
    "\n",
    "    print(x.eval())\n",
    "\n",
    "    for iteration in range(10):\n",
    "        increment.eval()\n",
    "        print(x.eval())"
   ]
  },
  {
   "cell_type": "code",
   "execution_count": 44,
   "metadata": {
    "scrolled": true
   },
   "outputs": [
    {
     "name": "stdout",
     "output_type": "stream",
     "text": [
      "3\n",
      "-5\n",
      "7\n",
      "-9\n",
      "11\n",
      "-13\n",
      "15\n",
      "-17\n",
      "19\n",
      "-21\n",
      "23\n",
      "-25\n",
      "27\n",
      "-29\n",
      "31\n",
      "-33\n",
      "35\n",
      "-37\n",
      "39\n",
      "-41\n",
      "43\n"
     ]
    }
   ],
   "source": [
    "# Ejercicio d\n",
    "graph = tf.Graph()\n",
    "\n",
    "with graph.as_default():\n",
    "    x = tf.Variable(3)\n",
    "    \n",
    "    increment1 = tf.assign(x,(x+2)*-1)\n",
    "    increment2 = tf.assign(x,(x-2)*-1)\n",
    "    \n",
    "    init = tf.global_variables_initializer()\n",
    "\n",
    "with tf.Session(graph=graph):\n",
    "    init.run()\n",
    "\n",
    "    print(x.eval())\n",
    "\n",
    "    for iteration in range(10):\n",
    "        increment1.eval()\n",
    "        print(x.eval())\n",
    "        increment2.eval()\n",
    "        print(x.eval())"
   ]
  },
  {
   "cell_type": "code",
   "execution_count": 51,
   "metadata": {},
   "outputs": [
    {
     "name": "stdout",
     "output_type": "stream",
     "text": [
      "2.0\n",
      "1.5\n",
      "1.3333334\n",
      "1.25\n",
      "1.2\n",
      "1.1666666\n",
      "1.1428572\n",
      "1.125\n",
      "1.1111112\n",
      "1.1\n",
      "1.0909091\n"
     ]
    }
   ],
   "source": [
    "# Ejercicio e\n",
    "graph = tf.Graph()\n",
    "\n",
    "with graph.as_default():\n",
    "    x = tf.Variable(2.0)\n",
    "    r = tf.Variable(0.0)\n",
    "    \n",
    "    increment = tf.assign(x,x+1)\n",
    "    sec = tf.assign(r,x/(x-1))\n",
    "    init = tf.global_variables_initializer()\n",
    "\n",
    "with tf.Session(graph=graph):\n",
    "    init.run()\n",
    "\n",
    "    print(x.eval())\n",
    "\n",
    "    for iteration in range(10):\n",
    "        increment.eval()\n",
    "        sec.eval()\n",
    "\n",
    "        print(r.eval())"
   ]
  },
  {
   "cell_type": "code",
   "execution_count": 65,
   "metadata": {
    "scrolled": true
   },
   "outputs": [
    {
     "name": "stdout",
     "output_type": "stream",
     "text": [
      "1.0\n",
      "4.0\n",
      "9.0\n",
      "16.0\n",
      "25.0\n",
      "36.0\n",
      "49.0\n",
      "64.0\n",
      "81.0\n",
      "100.0\n"
     ]
    }
   ],
   "source": [
    "# Ejercicio F\n",
    "graph = tf.Graph()\n",
    "\n",
    "with graph.as_default():\n",
    "    x = tf.Variable(3.0)\n",
    "    r = tf.Variable(1.0)\n",
    "    \n",
    "    sec = tf.assign(r,r+x)\n",
    "    \n",
    "    increment = tf.assign(x,x+2)\n",
    "    \n",
    "    init = tf.global_variables_initializer()\n",
    "\n",
    "with tf.Session(graph=graph):\n",
    "    init.run()\n",
    "\n",
    "\n",
    "\n",
    "    for iteration in range(10):\n",
    "        print(r.eval())\n",
    "        sec.eval()\n",
    "        increment.eval()\n",
    "\n",
    "        "
   ]
  },
  {
   "cell_type": "code",
   "execution_count": 66,
   "metadata": {},
   "outputs": [
    {
     "name": "stdout",
     "output_type": "stream",
     "text": [
      "0.0\n",
      "2.0\n",
      "6.0\n",
      "12.0\n",
      "20.0\n",
      "30.0\n",
      "42.0\n",
      "56.0\n",
      "72.0\n",
      "90.0\n"
     ]
    }
   ],
   "source": [
    "# Ejercicio G\n",
    "graph = tf.Graph()\n",
    "\n",
    "with graph.as_default():\n",
    "    x = tf.Variable(2.0)\n",
    "    r = tf.Variable(0.0)\n",
    "    \n",
    "    sec = tf.assign(r,r+x)\n",
    "    \n",
    "    increment = tf.assign(x,x+2)\n",
    "    \n",
    "    init = tf.global_variables_initializer()\n",
    "\n",
    "with tf.Session(graph=graph):\n",
    "    init.run()\n",
    "\n",
    "\n",
    "\n",
    "    for iteration in range(10):\n",
    "        print(r.eval())\n",
    "        sec.eval()\n",
    "        increment.eval()"
   ]
  },
  {
   "cell_type": "code",
   "execution_count": 74,
   "metadata": {
    "scrolled": true
   },
   "outputs": [
    {
     "name": "stdout",
     "output_type": "stream",
     "text": [
      "1.0\n",
      "0.6666667\n",
      "0.44444445\n",
      "0.2962963\n",
      "0.19753087\n",
      "0.13168724\n",
      "0.087791495\n",
      "0.058527663\n",
      "0.03901844\n",
      "0.026012294\n"
     ]
    }
   ],
   "source": [
    "# Ejercicio H\n",
    "graph = tf.Graph()\n",
    "\n",
    "with graph.as_default():\n",
    "    x = tf.Variable(1.0)\n",
    "    y = tf.Variable(1.0)\n",
    "    r = tf.Variable(1.0)\n",
    "    \n",
    "    incrementX = tf.assign(x,x*2)\n",
    "    incrementY = tf.assign(y,y*3)\n",
    "    sec = tf.assign(r,x/y)\n",
    "    \n",
    "    init = tf.global_variables_initializer()\n",
    "\n",
    "with tf.Session(graph=graph):\n",
    "    init.run()\n",
    "\n",
    "    for iteration in range(10):\n",
    "        print(r.eval())\n",
    "        incrementX.eval()\n",
    "        incrementY.eval()\n",
    "        sec.eval()\n",
    "\n",
    "        "
   ]
  },
  {
   "cell_type": "code",
   "execution_count": 78,
   "metadata": {},
   "outputs": [
    {
     "name": "stdout",
     "output_type": "stream",
     "text": [
      "6.0\n",
      "12.0\n",
      "20.0\n",
      "30.0\n",
      "42.0\n",
      "56.0\n",
      "72.0\n",
      "90.0\n",
      "110.0\n",
      "132.0\n"
     ]
    }
   ],
   "source": [
    "# Ejercicio I\n",
    "graph = tf.Graph()\n",
    "\n",
    "with graph.as_default():\n",
    "    x = tf.Variable(6.0)\n",
    "    r = tf.Variable(6.0)\n",
    "    \n",
    "    increment = tf.assign(x,x+2)\n",
    "    sec = tf.assign(r,r+x)\n",
    "    \n",
    "    init = tf.global_variables_initializer()\n",
    "\n",
    "with tf.Session(graph=graph):\n",
    "    init.run()\n",
    "\n",
    "    for iteration in range(10):\n",
    "        print(r.eval())\n",
    "        sec.eval()\n",
    "        increment.eval()\n",
    "        \n",
    "        "
   ]
  },
  {
   "cell_type": "code",
   "execution_count": 81,
   "metadata": {},
   "outputs": [
    {
     "name": "stdout",
     "output_type": "stream",
     "text": [
      "0.6666667\n",
      "0.375\n",
      "0.26666668\n",
      "0.20833333\n",
      "0.17142858\n",
      "0.14583333\n",
      "0.12698413\n",
      "0.1125\n",
      "0.1010101\n",
      "0.09166667\n"
     ]
    }
   ],
   "source": [
    "# Ejercicio J\n",
    "graph = tf.Graph()\n",
    "\n",
    "with graph.as_default():\n",
    "    x = tf.Variable(2.0)\n",
    "    y = tf.Variable(1.0)\n",
    "    z = tf.Variable(3.0)\n",
    "    r = tf.Variable(1.0)\n",
    "    \n",
    "    \n",
    "    assignY = tf.assign(y,x-1)\n",
    "    assignZ = tf.assign(z,x+1)\n",
    "    sec = tf.assign(r,x/(y*z))\n",
    "    \n",
    "    increment = tf.assign(x,x+1)\n",
    "    \n",
    "    init = tf.global_variables_initializer()\n",
    "\n",
    "with tf.Session(graph=graph):\n",
    "    init.run()\n",
    "\n",
    "    for iteration in range(10):\n",
    "        \n",
    "        assignZ.eval()\n",
    "        assignY.eval()\n",
    "        sec.eval()\n",
    "        increment.eval()\n",
    "        print(r.eval())"
   ]
  },
  {
   "cell_type": "code",
   "execution_count": 86,
   "metadata": {},
   "outputs": [
    {
     "name": "stdout",
     "output_type": "stream",
     "text": [
      "-0.5\n",
      "0.4\n",
      "-0.375\n",
      "0.36363637\n",
      "-0.35714287\n",
      "0.3529412\n",
      "-0.35\n",
      "0.3478261\n",
      "-0.34615386\n",
      "0.3448276\n",
      "-0.34375\n",
      "0.34285715\n",
      "-0.34210527\n",
      "0.34146342\n",
      "-0.3409091\n",
      "0.34042552\n",
      "-0.34\n",
      "0.33962265\n",
      "-0.3392857\n",
      "0.33898306\n"
     ]
    }
   ],
   "source": [
    "# Ejercicio L\n",
    "graph = tf.Graph()\n",
    "\n",
    "with graph.as_default():\n",
    "    x = tf.Variable(1.0)\n",
    "    y = tf.Variable(2.0)\n",
    "    r = tf.Variable(0.0)\n",
    "    \n",
    "    increment1 = tf.assign(x,x+1.0)\n",
    "    increment2 = tf.assign(y,y+3.0)\n",
    "    \n",
    "    sec1 = tf.assign(r,(x/y)*(-1.0))\n",
    "    sec2 = tf.assign(r,x/y)\n",
    "    \n",
    "    init = tf.global_variables_initializer()\n",
    "\n",
    "with tf.Session(graph=graph):\n",
    "    init.run()\n",
    "\n",
    "  \n",
    "\n",
    "    for iteration in range(10):\n",
    "        sec1.eval()\n",
    "        increment1.eval()\n",
    "        increment2.eval()\n",
    "        print(r.eval())\n",
    "        sec2.eval()\n",
    "        increment1.eval()\n",
    "        increment2.eval()\n",
    "        print(r.eval())"
   ]
  }
 ],
 "metadata": {
  "kernelspec": {
   "display_name": "Python 3",
   "language": "python",
   "name": "python3"
  },
  "language_info": {
   "codemirror_mode": {
    "name": "ipython",
    "version": 3
   },
   "file_extension": ".py",
   "mimetype": "text/x-python",
   "name": "python",
   "nbconvert_exporter": "python",
   "pygments_lexer": "ipython3",
   "version": "3.5.1"
  }
 },
 "nbformat": 4,
 "nbformat_minor": 2
}
