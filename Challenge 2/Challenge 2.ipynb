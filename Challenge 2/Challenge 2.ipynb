{
 "cells": [
  {
   "cell_type": "code",
   "execution_count": 1,
   "metadata": {},
   "outputs": [],
   "source": [
    "import tensorflow as tf"
   ]
  },
  {
   "cell_type": "code",
   "execution_count": 24,
   "metadata": {
    "scrolled": true
   },
   "outputs": [
    {
     "name": "stdout",
     "output_type": "stream",
     "text": [
      "55.0\n"
     ]
    }
   ],
   "source": [
    "# Ejercicio a\n",
    "\n",
    "graph = tf.Graph()\n",
    "\n",
    "with graph.as_default():\n",
    "    x = tf.placeholder(tf.float32, shape=[])\n",
    "    res = tf.Variable(0.)\n",
    "    sec = tf.assign(res,(x*(x+1)/2))\n",
    "    init = tf.global_variables_initializer()\n",
    "\n",
    "with tf.Session(graph=graph):\n",
    "    init.run()   \n",
    "    sec.eval(feed_dict={x: 10.})\n",
    "    print(res.eval())"
   ]
  },
  {
   "cell_type": "code",
   "execution_count": 26,
   "metadata": {},
   "outputs": [
    {
     "name": "stdout",
     "output_type": "stream",
     "text": [
      "385.0\n"
     ]
    }
   ],
   "source": [
    "# Ejercicio a\n",
    "\n",
    "graph = tf.Graph()\n",
    "\n",
    "with graph.as_default():\n",
    "    x = tf.placeholder(tf.float32, shape=[])\n",
    "    res = tf.Variable(0.)\n",
    "    sec = tf.assign(res,((x*(x+1)*((2*x)+1))/6))\n",
    "    init = tf.global_variables_initializer()\n",
    "\n",
    "with tf.Session(graph=graph):\n",
    "    init.run()\n",
    "\n",
    "    \n",
    "    sec.eval(feed_dict={x: 10.})\n",
    "    print(res.eval())"
   ]
  },
  {
   "cell_type": "code",
   "execution_count": 31,
   "metadata": {},
   "outputs": [
    {
     "name": "stdout",
     "output_type": "stream",
     "text": [
      "3025.0\n"
     ]
    }
   ],
   "source": [
    "# Ejercicio a\n",
    "\n",
    "graph = tf.Graph()\n",
    "\n",
    "with graph.as_default():\n",
    "    x = tf.placeholder(tf.float32, shape=[])\n",
    "    res = tf.Variable(0.)\n",
    "    sec = tf.assign(res,((x*(x+1))/2)**2)\n",
    "    init = tf.global_variables_initializer()\n",
    "\n",
    "with tf.Session(graph=graph):\n",
    "    init.run()\n",
    "\n",
    "    \n",
    "    sec.eval(feed_dict={x: 10.})\n",
    "    print(res.eval())"
   ]
  },
  {
   "cell_type": "code",
   "execution_count": 41,
   "metadata": {},
   "outputs": [
    {
     "name": "stdout",
     "output_type": "stream",
     "text": [
      "354.0\n"
     ]
    }
   ],
   "source": [
    "# Ejercicio a\n",
    "\n",
    "graph = tf.Graph()\n",
    "\n",
    "with graph.as_default():\n",
    "    x = tf.placeholder(tf.float32, shape=[])\n",
    "    res = tf.Variable(0.)\n",
    "    sec = tf.assign(res,((x*(x+1.)*((6.*(x**3))+(9.*(x**2))+ x -1.))/30.))\n",
    "    init = tf.global_variables_initializer()\n",
    "\n",
    "with tf.Session(graph=graph):\n",
    "    init.run()\n",
    "\n",
    "    \n",
    "    sec.eval(feed_dict={x: 4.})\n",
    "    print(res.eval())"
   ]
  }
 ],
 "metadata": {
  "kernelspec": {
   "display_name": "Python 3",
   "language": "python",
   "name": "python3"
  },
  "language_info": {
   "codemirror_mode": {
    "name": "ipython",
    "version": 3
   },
   "file_extension": ".py",
   "mimetype": "text/x-python",
   "name": "python",
   "nbconvert_exporter": "python",
   "pygments_lexer": "ipython3",
   "version": "3.5.0"
  }
 },
 "nbformat": 4,
 "nbformat_minor": 2
}
